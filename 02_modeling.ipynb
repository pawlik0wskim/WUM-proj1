{
 "cells": [
  {
   "cell_type": "code",
   "execution_count": 153,
   "metadata": {},
   "outputs": [],
   "source": [
    "\n",
    "import matplotlib.pyplot as plt\n",
    "import numpy as np\n",
    "import pandas as pd\n",
    "import seaborn as sns\n",
    "import math\n",
    "from mpl_toolkits.mplot3d import Axes3D\n",
    "from sklearn.ensemble import RandomForestClassifier\n",
    "from sklearn.model_selection import train_test_split\n",
    "from sklearn import linear_model\n",
    "from sklearn.model_selection import GridSearchCV\n",
    "import warnings\n",
    "warnings.filterwarnings('ignore')\n",
    "from category_encoders import OneHotEncoder"
   ]
  },
  {
   "cell_type": "code",
   "execution_count": 154,
   "metadata": {},
   "outputs": [],
   "source": [
    "data=pd.DataFrame(pd.read_json('https://api.apispreadsheets.com/api/dataset/school-grades/',orient='split'))"
   ]
  },
  {
   "cell_type": "code",
   "execution_count": 155,
   "metadata": {},
   "outputs": [
    {
     "name": "stdout",
     "output_type": "stream",
     "text": [
      "<class 'pandas.core.frame.DataFrame'>\n",
      "RangeIndex: 649 entries, 0 to 648\n",
      "Data columns (total 33 columns):\n",
      " #   Column      Non-Null Count  Dtype \n",
      "---  ------      --------------  ----- \n",
      " 0   school      649 non-null    object\n",
      " 1   sex         649 non-null    object\n",
      " 2   age         649 non-null    int64 \n",
      " 3   address     649 non-null    object\n",
      " 4   famsize     649 non-null    object\n",
      " 5   Pstatus     649 non-null    object\n",
      " 6   Medu        649 non-null    int64 \n",
      " 7   Fedu        649 non-null    int64 \n",
      " 8   Mjob        649 non-null    object\n",
      " 9   Fjob        649 non-null    object\n",
      " 10  reason      649 non-null    object\n",
      " 11  guardian    649 non-null    object\n",
      " 12  traveltime  649 non-null    int64 \n",
      " 13  studytime   649 non-null    int64 \n",
      " 14  failures    649 non-null    int64 \n",
      " 15  schoolsup   649 non-null    object\n",
      " 16  famsup      649 non-null    object\n",
      " 17  paid        649 non-null    object\n",
      " 18  activities  649 non-null    object\n",
      " 19  nursery     649 non-null    object\n",
      " 20  higher      649 non-null    object\n",
      " 21  internet    649 non-null    object\n",
      " 22  romantic    649 non-null    object\n",
      " 23  famrel      649 non-null    int64 \n",
      " 24  freetime    649 non-null    int64 \n",
      " 25  goout       649 non-null    int64 \n",
      " 26  Dalc        649 non-null    int64 \n",
      " 27  Walc        649 non-null    int64 \n",
      " 28  health      649 non-null    int64 \n",
      " 29  absences    649 non-null    int64 \n",
      " 30  G1          649 non-null    int64 \n",
      " 31  G2          649 non-null    int64 \n",
      " 32  G3          649 non-null    int64 \n",
      "dtypes: int64(16), object(17)\n",
      "memory usage: 167.4+ KB\n"
     ]
    }
   ],
   "source": [
    "data.info()"
   ]
  },
  {
   "cell_type": "markdown",
   "metadata": {},
   "source": [
    "## Inżynieria cech \n",
    "### Kodowanie kategoryczne i dodanie kolumny \"Czy dostał 0 pkt\"\n",
    "\n",
    "Chcąc lepiej przewidywać wyniki postanowiliśmy inaczej potraktować osoby z zerowym wynikiem. Nasz plan jest taki, aby najpierw przewidywać czy osoba dostanie 0 pkt, a następnie, jeśli z przewidywania wyjdzie że nie powinna dostać 0 pkt, przewidujemy jej wynik."
   ]
  },
  {
   "cell_type": "code",
   "execution_count": 156,
   "metadata": {},
   "outputs": [
    {
     "data": {
      "text/plain": [
       "count     649\n",
       "unique      2\n",
       "top        no\n",
       "freq      581\n",
       "Name: schoolsup, dtype: object"
      ]
     },
     "execution_count": 156,
     "metadata": {},
     "output_type": "execute_result"
    }
   ],
   "source": [
    "data['schoolsup'].describe()"
   ]
  },
  {
   "cell_type": "markdown",
   "metadata": {},
   "source": [
    "Wyrzucamy również kolumne dotyczącą edukacji ojca, gdyż z EDA wyszło nam że jest ona mocno skorelowana z edukacją matki. Postanowiliśmy wyrzucić jedną z tych cech."
   ]
  },
  {
   "cell_type": "code",
   "execution_count": 157,
   "metadata": {},
   "outputs": [],
   "source": [
    "data = data.drop(labels = \"Fedu\", axis = 1)\n",
    "data = data.drop(labels = \"Fjob\", axis = 1)\n",
    "\n",
    "ce_one_hot = OneHotEncoder(cols = (\"Mjob\", \"sex\", \"school\",'famsize',\n",
    "                                   \"address\", \"Pstatus\", \"reason\",\n",
    "                                   \"guardian\", \"schoolsup\",'famsup', 'paid',\n",
    "                                   'activities', 'nursery', 'higher', 'internet', 'romantic' ))\n",
    "df = ce_one_hot.fit_transform(data)"
   ]
  },
  {
   "cell_type": "code",
   "execution_count": 158,
   "metadata": {},
   "outputs": [],
   "source": [
    "a=df.shape[1]-3\n",
    "df=df.iloc[:,:a]"
   ]
  },
  {
   "cell_type": "code",
   "execution_count": 159,
   "metadata": {},
   "outputs": [],
   "source": [
    "data['is_zero']=np.where(data['G3']==0,0,1)"
   ]
  },
  {
   "cell_type": "markdown",
   "metadata": {},
   "source": [
    "### Main grid search"
   ]
  },
  {
   "cell_type": "markdown",
   "metadata": {},
   "source": [
    "Na początku dla przetestowania, czy osiągniemy lepsze efekty dzieląc modelowanie na dwa etapy sprawdzamy jakość wybranych modeli bez podziału."
   ]
  },
  {
   "cell_type": "code",
   "execution_count": 160,
   "metadata": {},
   "outputs": [],
   "source": [
    " x_train2, x_test2, y_train2, y_test2 = train_test_split(df, data[\"G3\"],test_size=0.3, random_state=0)"
   ]
  },
  {
   "cell_type": "code",
   "execution_count": 161,
   "metadata": {},
   "outputs": [],
   "source": [
    "model_params2={\n",
    "    'linear_regression':{\n",
    "        'model': linear_model.LinearRegression(),\n",
    "        'params': {}\n",
    "    },\n",
    "    'lasso':{\n",
    "        'model': linear_model.Lasso(random_state=15),\n",
    "        'params':{\n",
    "            'alpha':[0.1,1,0],\n",
    "            'normalize':['True','False']\n",
    "        }\n",
    "    },\n",
    "    'svm':{\n",
    "            'model': svm.SVC(gamma='auto', tol=1e-1, cache_size=2000, max_iter=1500),\n",
    "            'params': {\n",
    "                'C': [0.001, 0.01, 0.1, 1, 3, 10, 30],\n",
    "                'kernel': ['linear', 'rbf']\n",
    "            }\n",
    "    }\n",
    "}"
   ]
  },
  {
   "cell_type": "code",
   "execution_count": 162,
   "metadata": {},
   "outputs": [
    {
     "data": {
      "text/plain": [
       "[{'model': 'linear_regression',\n",
       "  'best_score': 0.21178759140058967,\n",
       "  'best_params': {},\n",
       "  'RMSE': 2.6490768345339046},\n",
       " {'model': 'lasso',\n",
       "  'best_score': 0.21121308154841392,\n",
       "  'best_params': {'alpha': 0, 'normalize': 'True'},\n",
       "  'RMSE': 2.64930062257279},\n",
       " {'model': 'svm',\n",
       "  'best_score': 0.21160818713450294,\n",
       "  'best_params': {'C': 3, 'kernel': 'rbf'},\n",
       "  'RMSE': 3.550370150438994}]"
      ]
     },
     "execution_count": 162,
     "metadata": {},
     "output_type": "execute_result"
    }
   ],
   "source": [
    "results2=[]\n",
    "\n",
    "from sklearn.metrics import mean_squared_error\n",
    "\n",
    "for name, param in model_params2.items():\n",
    "    classifier=GridSearchCV(param['model'],param['params'],cv=6,return_train_score=False)\n",
    "    classifier.fit(x_train2,  y_train2)\n",
    "    model_performance = np.sqrt(mean_squared_error(classifier.predict(x_test2),y_test2, squared=True))\n",
    "    results2.append({\n",
    "        'model': name,\n",
    "        'best_score': classifier.best_score_,\n",
    "        'best_params': classifier.best_params_,\n",
    "        'RMSE': model_performance\n",
    "    })\n",
    "results2                                                           "
   ]
  },
  {
   "cell_type": "code",
   "execution_count": 163,
   "metadata": {},
   "outputs": [
    {
     "data": {
      "text/plain": [
       "<seaborn.axisgrid.FacetGrid at 0x2142875ed30>"
      ]
     },
     "execution_count": 163,
     "metadata": {},
     "output_type": "execute_result"
    },
    {
     "data": {
      "image/png": "[encoded data removed]",
      "text/plain": [
       "<Figure size 360x360 with 1 Axes>"
      ]
     },
     "metadata": {
      "needs_background": "light"
     },
     "output_type": "display_data"
    }
   ],
   "source": [
    "sns.displot(classifier.predict(x_test2))"
   ]
  },
  {
   "cell_type": "code",
   "execution_count": 164,
   "metadata": {},
   "outputs": [
    {
     "data": {
      "text/plain": [
       "<seaborn.axisgrid.FacetGrid at 0x21428402eb0>"
      ]
     },
     "execution_count": 164,
     "metadata": {},
     "output_type": "execute_result"
    },
    {
     "data": {
      "image/png": "[encoded data removed]",
      "text/plain": [
       "<Figure size 360x360 with 1 Axes>"
      ]
     },
     "metadata": {
      "needs_background": "light"
     },
     "output_type": "display_data"
    }
   ],
   "source": [
    "sns.displot(y_test2)"
   ]
  },
  {
   "cell_type": "markdown",
   "metadata": {},
   "source": [
    "### Grid search: \"Did student get 0?\""
   ]
  },
  {
   "cell_type": "code",
   "execution_count": 165,
   "metadata": {},
   "outputs": [],
   "source": [
    " x_train, x_test, y_train, y_test = train_test_split(df, data[\"is_zero\"],test_size=0.3, random_state=0)"
   ]
  },
  {
   "cell_type": "code",
   "execution_count": 166,
   "metadata": {},
   "outputs": [],
   "source": [
    "from sklearn import svm"
   ]
  },
  {
   "cell_type": "code",
   "execution_count": 167,
   "metadata": {},
   "outputs": [],
   "source": [
    "from sklearn.linear_model import LogisticRegression\n",
    "\n",
    "model_params={\n",
    "    'random_forest':{\n",
    "        'model': RandomForestClassifier(random_state=15),\n",
    "        'params': {\n",
    "            'n_estimators':[1,3,8,13],\n",
    "            'min_samples_split': [3,5,10,20]\n",
    "        }\n",
    "    },\n",
    "    'logistic_regession':{\n",
    "        'model': LogisticRegression(random_state=15, solver='liblinear'),\n",
    "        'params':{\n",
    "            'C':[1,5,10],\n",
    "            'penalty':['l1','l2','elasticnet']\n",
    "        }\n",
    "    },\n",
    "    'svm':{\n",
    "            'model': svm.SVC(gamma='auto', tol=1e-1, cache_size=2000, max_iter=1500),\n",
    "            'params': {\n",
    "                'C': [0.001, 0.01, 0.1, 1, 3, 10, 30],\n",
    "                'kernel': ['linear', 'rbf']\n",
    "            }\n",
    "    }\n",
    "}"
   ]
  },
  {
   "cell_type": "code",
   "execution_count": 168,
   "metadata": {},
   "outputs": [
    {
     "data": {
      "text/plain": [
       "[{'model': 'random_forest',\n",
       "  'best_score': 0.9757602339181287,\n",
       "  'best_params': {'min_samples_split': 3, 'n_estimators': 8}},\n",
       " {'model': 'logistic_regession',\n",
       "  'best_score': 0.9779824561403508,\n",
       "  'best_params': {'C': 1, 'penalty': 'l1'}},\n",
       " {'model': 'svm',\n",
       "  'best_score': 0.977953216374269,\n",
       "  'best_params': {'C': 10, 'kernel': 'rbf'}}]"
      ]
     },
     "execution_count": 168,
     "metadata": {},
     "output_type": "execute_result"
    }
   ],
   "source": [
    "results=[]\n",
    "for name, param in model_params.items():\n",
    "    classifier=GridSearchCV(param['model'],param['params'],cv=6,return_train_score=False)\n",
    "    classifier.fit(x_train,  y_train)\n",
    "    results.append({\n",
    "        'model': name,\n",
    "        'best_score': classifier.best_score_,\n",
    "        'best_params': classifier.best_params_\n",
    "    })\n",
    "results"
   ]
  },
  {
   "cell_type": "code",
   "execution_count": 169,
   "metadata": {},
   "outputs": [],
   "source": [
    "only_good_data=df.loc[data.is_zero==1]"
   ]
  },
  {
   "cell_type": "code",
   "execution_count": 170,
   "metadata": {},
   "outputs": [],
   "source": [
    "data2=data.loc[data.is_zero==1]"
   ]
  },
  {
   "cell_type": "code",
   "execution_count": 171,
   "metadata": {},
   "outputs": [],
   "source": [
    " x_train3, x_test3, y_train3, y_test3 = train_test_split(only_good_data, data2[\"G3\"],test_size=0.3, random_state=0)"
   ]
  },
  {
   "cell_type": "code",
   "execution_count": 172,
   "metadata": {},
   "outputs": [
    {
     "data": {
      "text/plain": [
       "[{'model': 'linear_regression',\n",
       "  'best_score': 0.24751458366108417,\n",
       "  'best_params': {},\n",
       "  'RMSE': 2.177135660952853},\n",
       " {'model': 'lasso',\n",
       "  'best_score': 0.24764222679510406,\n",
       "  'best_params': {'alpha': 0, 'normalize': 'True'},\n",
       "  'RMSE': 2.176658396435847},\n",
       " {'model': 'svm',\n",
       "  'best_score': 0.19196593854128105,\n",
       "  'best_params': {'C': 30, 'kernel': 'rbf'},\n",
       "  'RMSE': 2.782706505792912}]"
      ]
     },
     "execution_count": 172,
     "metadata": {},
     "output_type": "execute_result"
    }
   ],
   "source": [
    "results3=[]\n",
    "\n",
    "from sklearn.metrics import mean_squared_error\n",
    "\n",
    "for name, param in model_params2.items():\n",
    "    classifier=GridSearchCV(param['model'],param['params'],cv=6,return_train_score=False)\n",
    "    classifier.fit(x_train3,  y_train3)\n",
    "    model_performance = np.sqrt(mean_squared_error(classifier.predict(x_test3),y_test3, squared=True))\n",
    "    results3.append({\n",
    "        'model': name,\n",
    "        'best_score': classifier.best_score_,\n",
    "        'best_params': classifier.best_params_,\n",
    "        'RMSE': model_performance\n",
    "    })\n",
    "results3"
   ]
  },
  {
   "cell_type": "code",
   "execution_count": 173,
   "metadata": {},
   "outputs": [
    {
     "data": {
      "text/plain": [
       "<seaborn.axisgrid.FacetGrid at 0x21427ba10d0>"
      ]
     },
     "execution_count": 173,
     "metadata": {},
     "output_type": "execute_result"
    },
    {
     "data": {
      "image/png": "[encoded data removed]",
      "text/plain": [
       "<Figure size 360x360 with 1 Axes>"
      ]
     },
     "metadata": {
      "needs_background": "light"
     },
     "output_type": "display_data"
    }
   ],
   "source": [
    "sns.displot(classifier.predict(x_test2))"
   ]
  },
  {
   "cell_type": "code",
   "execution_count": 174,
   "metadata": {},
   "outputs": [
    {
     "data": {
      "text/plain": [
       "<seaborn.axisgrid.FacetGrid at 0x2142890ea60>"
      ]
     },
     "execution_count": 174,
     "metadata": {},
     "output_type": "execute_result"
    },
    {
     "data": {
      "image/png": "[encoded data removed]",
      "text/plain": [
       "<Figure size 360x360 with 1 Axes>"
      ]
     },
     "metadata": {
      "needs_background": "light"
     },
     "output_type": "display_data"
    }
   ],
   "source": [
    "sns.displot(y_test3)"
   ]
  },
  {
   "cell_type": "code",
   "execution_count": null,
   "metadata": {},
   "outputs": [],
   "source": []
  },
  {
   "cell_type": "code",
   "execution_count": null,
   "metadata": {},
   "outputs": [],
   "source": []
  }
 ],
 "metadata": {
  "kernelspec": {
   "display_name": "Python 3",
   "language": "python",
   "name": "python3"
  },
  "language_info": {
   "codemirror_mode": {
    "name": "ipython",
    "version": 3
   },
   "file_extension": ".py",
   "mimetype": "text/x-python",
   "name": "python",
   "nbconvert_exporter": "python",
   "pygments_lexer": "ipython3",
   "version": "3.8.5"
  }
 },
 "nbformat": 4,
 "nbformat_minor": 4
}
