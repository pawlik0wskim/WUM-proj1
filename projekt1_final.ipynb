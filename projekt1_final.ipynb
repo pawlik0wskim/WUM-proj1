{
 "cells": [
  {
   "cell_type": "code",
   "execution_count": 1,
   "metadata": {},
   "outputs": [],
   "source": [
    "import matplotlib.pyplot as plt\n",
    "import numpy as np\n",
    "import pandas as pd\n",
    "import seaborn as sns\n",
    "import math\n",
    "from sklearn.ensemble import RandomForestClassifier\n",
    "from sklearn.model_selection import train_test_split\n",
    "from sklearn.linear_model import LogisticRegression\n",
    "from sklearn import linear_model\n",
    "from sklearn.model_selection import GridSearchCV\n",
    "from sklearn import svm\n",
    "from sklearn.neural_network import MLPClassifier\n",
    "from sklearn.neural_network import MLPRegressor\n",
    "from sklearn.metrics import mean_squared_error\n",
    "import warnings\n",
    "warnings.filterwarnings('ignore')\n",
    "from category_encoders import OneHotEncoder"
   ]
  },
  {
   "cell_type": "markdown",
   "metadata": {},
   "source": [
    "## Przygotowanie danych "
   ]
  },
  {
   "cell_type": "code",
   "execution_count": 2,
   "metadata": {},
   "outputs": [
    {
     "name": "stdout",
     "output_type": "stream",
     "text": [
      "<class 'pandas.core.frame.DataFrame'>\n",
      "RangeIndex: 649 entries, 0 to 648\n",
      "Data columns (total 33 columns):\n",
      " #   Column      Non-Null Count  Dtype \n",
      "---  ------      --------------  ----- \n",
      " 0   school      649 non-null    object\n",
      " 1   sex         649 non-null    object\n",
      " 2   age         649 non-null    int64 \n",
      " 3   address     649 non-null    object\n",
      " 4   famsize     649 non-null    object\n",
      " 5   Pstatus     649 non-null    object\n",
      " 6   Medu        649 non-null    int64 \n",
      " 7   Fedu        649 non-null    int64 \n",
      " 8   Mjob        649 non-null    object\n",
      " 9   Fjob        649 non-null    object\n",
      " 10  reason      649 non-null    object\n",
      " 11  guardian    649 non-null    object\n",
      " 12  traveltime  649 non-null    int64 \n",
      " 13  studytime   649 non-null    int64 \n",
      " 14  failures    649 non-null    int64 \n",
      " 15  schoolsup   649 non-null    object\n",
      " 16  famsup      649 non-null    object\n",
      " 17  paid        649 non-null    object\n",
      " 18  activities  649 non-null    object\n",
      " 19  nursery     649 non-null    object\n",
      " 20  higher      649 non-null    object\n",
      " 21  internet    649 non-null    object\n",
      " 22  romantic    649 non-null    object\n",
      " 23  famrel      649 non-null    int64 \n",
      " 24  freetime    649 non-null    int64 \n",
      " 25  goout       649 non-null    int64 \n",
      " 26  Dalc        649 non-null    int64 \n",
      " 27  Walc        649 non-null    int64 \n",
      " 28  health      649 non-null    int64 \n",
      " 29  absences    649 non-null    int64 \n",
      " 30  G1          649 non-null    int64 \n",
      " 31  G2          649 non-null    int64 \n",
      " 32  G3          649 non-null    int64 \n",
      "dtypes: int64(16), object(17)\n",
      "memory usage: 167.4+ KB\n"
     ]
    }
   ],
   "source": [
    "data=pd.DataFrame(pd.read_json('https://api.apispreadsheets.com/api/dataset/school-grades/',orient='split'))\n",
    "data.info()"
   ]
  },
  {
   "cell_type": "markdown",
   "metadata": {},
   "source": [
    "## Inżynieria cech \n",
    "### Kodowanie kategoryczne i dodanie kolumny \"Czy dostał 0 pkt\"\n",
    "\n",
    "Chcąc lepiej przewidywać wyniki postanowiliśmy inaczej potraktować osoby z zerowym wynikiem. Nasz plan jest taki, aby najpierw przewidywać czy osoba dostanie 0 pkt, a następnie, jeśli z przewidywania wyjdzie że nie powinna dostać 0 pkt, przewidujemy jej wynik."
   ]
  },
  {
   "cell_type": "code",
   "execution_count": 3,
   "metadata": {},
   "outputs": [
    {
     "data": {
      "text/plain": [
       "count     649\n",
       "unique      2\n",
       "top        no\n",
       "freq      581\n",
       "Name: schoolsup, dtype: object"
      ]
     },
     "execution_count": 3,
     "metadata": {},
     "output_type": "execute_result"
    }
   ],
   "source": [
    "data['schoolsup'].describe()"
   ]
  },
  {
   "cell_type": "markdown",
   "metadata": {},
   "source": [
    "Wyrzucamy również kolumne dotyczącą edukacji ojca, gdyż z EDA wyszło nam że jest ona mocno skorelowana z edukacją matki. Postanowiliśmy wyrzucić jedną z tych cech."
   ]
  },
  {
   "cell_type": "code",
   "execution_count": 4,
   "metadata": {},
   "outputs": [],
   "source": [
    "data = data.drop(labels = \"Fedu\", axis = 1)\n",
    "data = data.drop(labels = \"Fjob\", axis = 1)\n",
    "\n",
    "ce_one_hot = OneHotEncoder(cols = (\"Mjob\", \"sex\", \"school\",'famsize',\n",
    "                                   \"address\", \"Pstatus\", \"reason\",\n",
    "                                   \"guardian\", \"schoolsup\",'famsup', 'paid',\n",
    "                                   'activities', 'nursery', 'higher', 'internet', 'romantic' ))\n",
    "df = ce_one_hot.fit_transform(data)"
   ]
  },
  {
   "cell_type": "code",
   "execution_count": 5,
   "metadata": {},
   "outputs": [
    {
     "data": {
      "text/html": [
       "<div>\n",
       "<style scoped>\n",
       "    .dataframe tbody tr th:only-of-type {\n",
       "        vertical-align: middle;\n",
       "    }\n",
       "\n",
       "    .dataframe tbody tr th {\n",
       "        vertical-align: top;\n",
       "    }\n",
       "\n",
       "    .dataframe thead th {\n",
       "        text-align: right;\n",
       "    }\n",
       "</style>\n",
       "<table border=\"1\" class=\"dataframe\">\n",
       "  <thead>\n",
       "    <tr style=\"text-align: right;\">\n",
       "      <th></th>\n",
       "      <th>school_1</th>\n",
       "      <th>school_2</th>\n",
       "      <th>sex_1</th>\n",
       "      <th>sex_2</th>\n",
       "      <th>age</th>\n",
       "      <th>address_1</th>\n",
       "      <th>address_2</th>\n",
       "      <th>famsize_1</th>\n",
       "      <th>famsize_2</th>\n",
       "      <th>Pstatus_1</th>\n",
       "      <th>...</th>\n",
       "      <th>romantic_2</th>\n",
       "      <th>famrel</th>\n",
       "      <th>freetime</th>\n",
       "      <th>goout</th>\n",
       "      <th>Dalc</th>\n",
       "      <th>Walc</th>\n",
       "      <th>health</th>\n",
       "      <th>absences</th>\n",
       "      <th>G1</th>\n",
       "      <th>G2</th>\n",
       "    </tr>\n",
       "  </thead>\n",
       "  <tbody>\n",
       "    <tr>\n",
       "      <th>0</th>\n",
       "      <td>1</td>\n",
       "      <td>0</td>\n",
       "      <td>1</td>\n",
       "      <td>0</td>\n",
       "      <td>18</td>\n",
       "      <td>1</td>\n",
       "      <td>0</td>\n",
       "      <td>1</td>\n",
       "      <td>0</td>\n",
       "      <td>1</td>\n",
       "      <td>...</td>\n",
       "      <td>0</td>\n",
       "      <td>4</td>\n",
       "      <td>3</td>\n",
       "      <td>4</td>\n",
       "      <td>1</td>\n",
       "      <td>1</td>\n",
       "      <td>3</td>\n",
       "      <td>4</td>\n",
       "      <td>0</td>\n",
       "      <td>11</td>\n",
       "    </tr>\n",
       "    <tr>\n",
       "      <th>1</th>\n",
       "      <td>1</td>\n",
       "      <td>0</td>\n",
       "      <td>1</td>\n",
       "      <td>0</td>\n",
       "      <td>17</td>\n",
       "      <td>1</td>\n",
       "      <td>0</td>\n",
       "      <td>1</td>\n",
       "      <td>0</td>\n",
       "      <td>0</td>\n",
       "      <td>...</td>\n",
       "      <td>0</td>\n",
       "      <td>5</td>\n",
       "      <td>3</td>\n",
       "      <td>3</td>\n",
       "      <td>1</td>\n",
       "      <td>1</td>\n",
       "      <td>3</td>\n",
       "      <td>2</td>\n",
       "      <td>9</td>\n",
       "      <td>11</td>\n",
       "    </tr>\n",
       "    <tr>\n",
       "      <th>2</th>\n",
       "      <td>1</td>\n",
       "      <td>0</td>\n",
       "      <td>1</td>\n",
       "      <td>0</td>\n",
       "      <td>15</td>\n",
       "      <td>1</td>\n",
       "      <td>0</td>\n",
       "      <td>0</td>\n",
       "      <td>1</td>\n",
       "      <td>0</td>\n",
       "      <td>...</td>\n",
       "      <td>0</td>\n",
       "      <td>4</td>\n",
       "      <td>3</td>\n",
       "      <td>2</td>\n",
       "      <td>2</td>\n",
       "      <td>3</td>\n",
       "      <td>3</td>\n",
       "      <td>6</td>\n",
       "      <td>12</td>\n",
       "      <td>13</td>\n",
       "    </tr>\n",
       "    <tr>\n",
       "      <th>3</th>\n",
       "      <td>1</td>\n",
       "      <td>0</td>\n",
       "      <td>1</td>\n",
       "      <td>0</td>\n",
       "      <td>15</td>\n",
       "      <td>1</td>\n",
       "      <td>0</td>\n",
       "      <td>1</td>\n",
       "      <td>0</td>\n",
       "      <td>0</td>\n",
       "      <td>...</td>\n",
       "      <td>1</td>\n",
       "      <td>3</td>\n",
       "      <td>2</td>\n",
       "      <td>2</td>\n",
       "      <td>1</td>\n",
       "      <td>1</td>\n",
       "      <td>5</td>\n",
       "      <td>0</td>\n",
       "      <td>14</td>\n",
       "      <td>14</td>\n",
       "    </tr>\n",
       "    <tr>\n",
       "      <th>4</th>\n",
       "      <td>1</td>\n",
       "      <td>0</td>\n",
       "      <td>1</td>\n",
       "      <td>0</td>\n",
       "      <td>16</td>\n",
       "      <td>1</td>\n",
       "      <td>0</td>\n",
       "      <td>1</td>\n",
       "      <td>0</td>\n",
       "      <td>0</td>\n",
       "      <td>...</td>\n",
       "      <td>0</td>\n",
       "      <td>4</td>\n",
       "      <td>3</td>\n",
       "      <td>2</td>\n",
       "      <td>1</td>\n",
       "      <td>2</td>\n",
       "      <td>5</td>\n",
       "      <td>0</td>\n",
       "      <td>11</td>\n",
       "      <td>13</td>\n",
       "    </tr>\n",
       "  </tbody>\n",
       "</table>\n",
       "<p>5 rows × 52 columns</p>\n",
       "</div>"
      ],
      "text/plain": [
       "   school_1  school_2  sex_1  sex_2  age  address_1  address_2  famsize_1  \\\n",
       "0         1         0      1      0   18          1          0          1   \n",
       "1         1         0      1      0   17          1          0          1   \n",
       "2         1         0      1      0   15          1          0          0   \n",
       "3         1         0      1      0   15          1          0          1   \n",
       "4         1         0      1      0   16          1          0          1   \n",
       "\n",
       "   famsize_2  Pstatus_1  ...  romantic_2  famrel  freetime  goout  Dalc  Walc  \\\n",
       "0          0          1  ...           0       4         3      4     1     1   \n",
       "1          0          0  ...           0       5         3      3     1     1   \n",
       "2          1          0  ...           0       4         3      2     2     3   \n",
       "3          0          0  ...           1       3         2      2     1     1   \n",
       "4          0          0  ...           0       4         3      2     1     2   \n",
       "\n",
       "   health  absences  G1  G2  \n",
       "0       3         4   0  11  \n",
       "1       3         2   9  11  \n",
       "2       3         6  12  13  \n",
       "3       5         0  14  14  \n",
       "4       5         0  11  13  \n",
       "\n",
       "[5 rows x 52 columns]"
      ]
     },
     "execution_count": 5,
     "metadata": {},
     "output_type": "execute_result"
    }
   ],
   "source": [
    "a=df.shape[1]-3\n",
    "df_G=df.iloc[:,:a]\n",
    "\n",
    "a=df.shape[1]-1\n",
    "df=df.iloc[:,:a]\n",
    "data['is_zero']=np.where(data['G3']==0,0,1)\n",
    "\n",
    "df.head()"
   ]
  },
  {
   "cell_type": "markdown",
   "metadata": {},
   "source": [
    "## Modele"
   ]
  },
  {
   "cell_type": "code",
   "execution_count": 6,
   "metadata": {},
   "outputs": [],
   "source": [
    "## Funkcja pomocnicza do testowania modeli \n",
    "\n",
    "def models_score(model_params, x_train, y_train, x_test, y_test):\n",
    "    results=[]\n",
    "    for name, param in model_params.items():\n",
    "        classifier=GridSearchCV(param['model'],param['params'],cv=6,return_train_score=False)\n",
    "        classifier.fit(x_train,  y_train)\n",
    "        model_performance = np.sqrt(mean_squared_error(classifier.predict(x_test),y_test, squared=True))\n",
    "        results.append({\n",
    "            'model': name,\n",
    "            'best_score': classifier.best_score_,\n",
    "            'best_params': classifier.best_params_,\n",
    "            'RMSE': model_performance\n",
    "        })\n",
    "    return results\n",
    "\n",
    "def draw_hists(model, x_test, y_test):\n",
    "    fig, ax =plt.subplots(1,2, sharey=True, figsize=(12,6))\n",
    "    sns.histplot(clf.predict(x_test), ax=ax[0])\n",
    "    sns.histplot(y_test, ax=ax[1])\n",
    "    ax[0].set_title('Rozkład przewidywany')\n",
    "    ax[1].set_title('Rozkład rzeczywisty')\n",
    "    fig.show()"
   ]
  },
  {
   "cell_type": "markdown",
   "metadata": {},
   "source": [
    "### Regrasja bez podziału na uczniów, którzy dostali 0pkt"
   ]
  },
  {
   "cell_type": "code",
   "execution_count": 7,
   "metadata": {},
   "outputs": [],
   "source": [
    "x_train, x_test, y_train, y_test = train_test_split(df, data[\"G3\"],test_size=0.3, random_state=0)\n",
    "x_train_G, x_test_G, y_train_G, y_test_G = train_test_split(df_G, data[\"G3\"],test_size=0.3, random_state=0)\n",
    "\n",
    "model_params1={\n",
    "    'linear_regression':{\n",
    "        'model': linear_model.LinearRegression(),\n",
    "        'params': {}\n",
    "    },\n",
    "    'lasso':{\n",
    "        'model': linear_model.Lasso(random_state=15),\n",
    "        'params':{\n",
    "            'alpha':[0.1,1,0],\n",
    "            'normalize':['True','False']\n",
    "        }\n",
    "    },\n",
    "    'svm':{\n",
    "            'model': svm.SVC(gamma='auto', tol=1e-1, cache_size=2000, max_iter=1500),\n",
    "            'params': {\n",
    "                'C': [0.001, 0.01, 0.1, 1, 3, 10, 30],\n",
    "                'kernel': ['linear', 'rbf']\n",
    "            }\n",
    "    }\n",
    "}"
   ]
  },
  {
   "cell_type": "markdown",
   "metadata": {},
   "source": [
    "#### Wyniki z G1 i G2"
   ]
  },
  {
   "cell_type": "code",
   "execution_count": 8,
   "metadata": {},
   "outputs": [
    {
     "data": {
      "text/plain": [
       "[{'model': 'linear_regression',\n",
       "  'best_score': 0.826048271365063,\n",
       "  'best_params': {},\n",
       "  'RMSE': 1.3448902385469212},\n",
       " {'model': 'lasso',\n",
       "  'best_score': 0.8260792371131339,\n",
       "  'best_params': {'alpha': 0, 'normalize': 'True'},\n",
       "  'RMSE': 1.3384449713763498},\n",
       " {'model': 'svm',\n",
       "  'best_score': 0.4163157894736842,\n",
       "  'best_params': {'C': 0.1, 'kernel': 'linear'},\n",
       "  'RMSE': 1.6235447132424274}]"
      ]
     },
     "execution_count": 8,
     "metadata": {},
     "output_type": "execute_result"
    }
   ],
   "source": [
    "results= models_score(model_params1, x_train, y_train, x_test, y_test)\n",
    "results"
   ]
  },
  {
   "cell_type": "code",
   "execution_count": 9,
   "metadata": {},
   "outputs": [
    {
     "data": {
      "image/png": "[encoded data removed]",
      "text/plain": [
       "<Figure size 864x432 with 2 Axes>"
      ]
     },
     "metadata": {
      "needs_background": "light"
     },
     "output_type": "display_data"
    }
   ],
   "source": [
    "clf = linear_model.Lasso(alpha=0, normalize = True).fit(x_train, y_train)\n",
    "draw_hists(clf, x_test, y_test)"
   ]
  },
  {
   "cell_type": "markdown",
   "metadata": {},
   "source": [
    "#### Wyniki bez G1 i G2"
   ]
  },
  {
   "cell_type": "code",
   "execution_count": 10,
   "metadata": {},
   "outputs": [
    {
     "data": {
      "text/plain": [
       "[{'model': 'linear_regression',\n",
       "  'best_score': 0.21248193055614717,\n",
       "  'best_params': {},\n",
       "  'RMSE': 2.658618691346799},\n",
       " {'model': 'lasso',\n",
       "  'best_score': 0.21121308154841392,\n",
       "  'best_params': {'alpha': 0, 'normalize': 'True'},\n",
       "  'RMSE': 2.649300622572791},\n",
       " {'model': 'svm',\n",
       "  'best_score': 0.21160818713450294,\n",
       "  'best_params': {'C': 3, 'kernel': 'rbf'},\n",
       "  'RMSE': 3.550370150438994}]"
      ]
     },
     "execution_count": 10,
     "metadata": {},
     "output_type": "execute_result"
    }
   ],
   "source": [
    "results= models_score(model_params1, x_train_G, y_train_G, x_test_G, y_test_G)\n",
    "results"
   ]
  },
  {
   "cell_type": "code",
   "execution_count": 11,
   "metadata": {},
   "outputs": [
    {
     "data": {
      "image/png": "[encoded data removed]",
      "text/plain": [
       "<Figure size 864x432 with 2 Axes>"
      ]
     },
     "metadata": {
      "needs_background": "light"
     },
     "output_type": "display_data"
    }
   ],
   "source": [
    "clf = linear_model.Lasso(alpha=0, normalize = True).fit(x_train_G, y_train_G)\n",
    "draw_hists(clf, x_test_G, y_test_G)"
   ]
  },
  {
   "cell_type": "markdown",
   "metadata": {},
   "source": [
    "### Klasyfikacja uczniów z zerowym wynikiem "
   ]
  },
  {
   "cell_type": "code",
   "execution_count": 12,
   "metadata": {},
   "outputs": [],
   "source": [
    " x_train2, x_test2, y_train2, y_test2 = train_test_split(df, data[\"is_zero\"],test_size=0.3, random_state=13)"
   ]
  },
  {
   "cell_type": "code",
   "execution_count": 13,
   "metadata": {},
   "outputs": [],
   "source": [
    "\n",
    "from sklearn.linear_model import LogisticRegression\n",
    "\n",
    "model_params2={\n",
    "    'random_forest':{\n",
    "        'model': RandomForestClassifier(random_state=15),\n",
    "        'params': {\n",
    "            'n_estimators':[1,3,8,13],\n",
    "            'min_samples_split': [3,5,10,20]\n",
    "        }\n",
    "    },\n",
    "    'logistic_regession':{\n",
    "        'model': LogisticRegression(random_state=15, solver='liblinear'),\n",
    "        'params':{\n",
    "            'C':[1,5,10],\n",
    "            'penalty':['l1','l2','elasticnet']\n",
    "        }\n",
    "    },\n",
    "    'svm':{\n",
    "            'model': svm.SVC(gamma='auto', tol=1e-1, cache_size=2000, max_iter=1500),\n",
    "            'params': {\n",
    "                'C': [0.001, 0.01, 0.1, 1, 3, 10, 30],\n",
    "                'kernel': ['linear', 'rbf']\n",
    "            }\n",
    "    }\n",
    "}"
   ]
  },
  {
   "cell_type": "code",
   "execution_count": 14,
   "metadata": {},
   "outputs": [
    {
     "data": {
      "text/plain": [
       "[{'model': 'random_forest',\n",
       "  'best_score': 0.9846198830409355,\n",
       "  'best_params': {'min_samples_split': 3, 'n_estimators': 8},\n",
       "  'RMSE': 0.10127393670836667},\n",
       " {'model': 'logistic_regession',\n",
       "  'best_score': 0.9823976608187134,\n",
       "  'best_params': {'C': 1, 'penalty': 'l1'},\n",
       "  'RMSE': 0.0},\n",
       " {'model': 'svm',\n",
       "  'best_score': 0.9868128654970759,\n",
       "  'best_params': {'C': 0.01, 'kernel': 'linear'},\n",
       "  'RMSE': 0.10127393670836667}]"
      ]
     },
     "execution_count": 14,
     "metadata": {},
     "output_type": "execute_result"
    }
   ],
   "source": [
    "results_isZero= models_score(model_params2, x_train2, y_train2, x_test2, y_test2)\n",
    "results_isZero"
   ]
  },
  {
   "cell_type": "markdown",
   "metadata": {},
   "source": [
    "### Regrasja tylko dla uczniów, którzy nie dostali zero punktów "
   ]
  },
  {
   "cell_type": "code",
   "execution_count": 15,
   "metadata": {},
   "outputs": [],
   "source": [
    "only_good_data=df.loc[data.is_zero==1]\n",
    "data2=data.loc[data.is_zero==1]\n",
    "x_train3, x_test3, y_train3, y_test3 = train_test_split(only_good_data, data2[\"G3\"],test_size=0.3, random_state=0)"
   ]
  },
  {
   "cell_type": "code",
   "execution_count": 16,
   "metadata": {},
   "outputs": [],
   "source": [
    "model_params3={\n",
    "    'linear_regression':{\n",
    "        'model': linear_model.LinearRegression(),\n",
    "        'params': {}\n",
    "    },\n",
    "    'lasso':{\n",
    "        'model': linear_model.Lasso(random_state=15),\n",
    "        'params':{\n",
    "            'alpha':[0.1,1,0],\n",
    "            'normalize':['True','False']\n",
    "        }\n",
    "    }\n",
    "}"
   ]
  },
  {
   "cell_type": "code",
   "execution_count": 17,
   "metadata": {},
   "outputs": [
    {
     "data": {
      "text/plain": [
       "[{'model': 'linear_regression',\n",
       "  'best_score': 0.8660971870949128,\n",
       "  'best_params': {},\n",
       "  'RMSE': 0.9344239094562881},\n",
       " {'model': 'lasso',\n",
       "  'best_score': 0.8655754653074229,\n",
       "  'best_params': {'alpha': 0, 'normalize': 'True'},\n",
       "  'RMSE': 0.9344510773077692}]"
      ]
     },
     "execution_count": 17,
     "metadata": {},
     "output_type": "execute_result"
    }
   ],
   "source": [
    "results3= models_score(model_params3, x_train3, y_train3, x_test3, y_test3)\n",
    "results3                                                      "
   ]
  },
  {
   "cell_type": "code",
   "execution_count": 18,
   "metadata": {},
   "outputs": [
    {
     "data": {
      "image/png": "[encoded data removed]",
      "text/plain": [
       "<Figure size 864x432 with 2 Axes>"
      ]
     },
     "metadata": {
      "needs_background": "light"
     },
     "output_type": "display_data"
    }
   ],
   "source": [
    "clf = linear_model.LinearRegression().fit(x_train3, y_train3)\n",
    "draw_hists(clf, x_test3, y_test3)"
   ]
  },
  {
   "cell_type": "markdown",
   "metadata": {},
   "source": [
    "# Model z kubełkami \n"
   ]
  },
  {
   "cell_type": "code",
   "execution_count": 19,
   "metadata": {},
   "outputs": [],
   "source": [
    "data_bins = data.drop(labels = \"is_zero\", axis = 1)"
   ]
  },
  {
   "cell_type": "code",
   "execution_count": 20,
   "metadata": {},
   "outputs": [],
   "source": [
    "## Podział na kubełki \n",
    "def divade(x, n):\n",
    "    return (x//n) * n \n",
    "\n",
    "df_bins = data_bins[\"G3\"].apply(lambda x: divade(x, 4))\n",
    "\n",
    "x_train4, x_test4, y_train4, y_test4 = train_test_split(df, df_bins,test_size=0.3, random_state=0)"
   ]
  },
  {
   "cell_type": "code",
   "execution_count": 21,
   "metadata": {},
   "outputs": [],
   "source": [
    "from sklearn.linear_model import LogisticRegression\n",
    "from sklearn.neural_network import MLPClassifier\n",
    "\n",
    "model_params4={\n",
    "    'random_forest':{\n",
    "        'model': RandomForestClassifier(random_state=15),\n",
    "        'params': {\n",
    "            'n_estimators':[1,3,8,13],\n",
    "            'min_samples_split': [3,5,10,20]\n",
    "        }\n",
    "    },\n",
    "    'logistic_regession':{\n",
    "        'model': LogisticRegression(random_state=15, solver='liblinear'),\n",
    "        'params':{\n",
    "            'C':[1,5,10],\n",
    "            'penalty':['l1','l2','elasticnet']\n",
    "        }\n",
    "    },\n",
    "    'svm':{\n",
    "            'model': svm.SVC(gamma='auto', tol=1e-1, cache_size=2000, max_iter=1500),\n",
    "            'params': {\n",
    "                'C': [0.001, 0.01, 0.1, 1, 3, 10, 30],\n",
    "                'kernel': ['linear', 'rbf']\n",
    "            }\n",
    "    }\n",
    "}"
   ]
  },
  {
   "cell_type": "code",
   "execution_count": 22,
   "metadata": {},
   "outputs": [
    {
     "data": {
      "text/plain": [
       "[{'model': 'random_forest',\n",
       "  'best_score': 0.8392397660818715,\n",
       "  'best_params': {'min_samples_split': 3, 'n_estimators': 13},\n",
       "  'RMSE': 1.900067475185134},\n",
       " {'model': 'logistic_regession',\n",
       "  'best_score': 0.7291520467836258,\n",
       "  'best_params': {'C': 5, 'penalty': 'l1'},\n",
       "  'RMSE': 2.2002330878853815},\n",
       " {'model': 'svm',\n",
       "  'best_score': 0.85453216374269,\n",
       "  'best_params': {'C': 0.01, 'kernel': 'linear'},\n",
       "  'RMSE': 1.718675697694639}]"
      ]
     },
     "execution_count": 22,
     "metadata": {},
     "output_type": "execute_result"
    }
   ],
   "source": [
    "results4= models_score(model_params4, x_train4, y_train4, x_test4, y_test4)\n",
    "results4   "
   ]
  },
  {
   "cell_type": "code",
   "execution_count": 23,
   "metadata": {},
   "outputs": [
    {
     "data": {
      "image/png": "[encoded data removed]",
      "text/plain": [
       "<Figure size 864x432 with 2 Axes>"
      ]
     },
     "metadata": {
      "needs_background": "light"
     },
     "output_type": "display_data"
    }
   ],
   "source": [
    "clf = svm.SVC(gamma='auto', tol=1e-1, cache_size=2000, max_iter=1500, C = 5, kernel = 'linear').fit(x_train4, y_train4)\n",
    "draw_hists(clf, x_test4, y_test4)"
   ]
  }
 ],
 "metadata": {
  "kernelspec": {
   "display_name": "Python 3",
   "language": "python",
   "name": "python3"
  },
  "language_info": {
   "codemirror_mode": {
    "name": "ipython",
    "version": 3
   },
   "file_extension": ".py",
   "mimetype": "text/x-python",
   "name": "python",
   "nbconvert_exporter": "python",
   "pygments_lexer": "ipython3",
   "version": "3.8.5"
  }
 },
 "nbformat": 4,
 "nbformat_minor": 4
}
